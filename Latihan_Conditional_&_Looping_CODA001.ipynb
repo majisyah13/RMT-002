{
  "nbformat": 4,
  "nbformat_minor": 0,
  "metadata": {
    "colab": {
      "provenance": [],
      "include_colab_link": true
    },
    "kernelspec": {
      "name": "python3",
      "display_name": "Python 3"
    },
    "language_info": {
      "name": "python"
    }
  },
  "cells": [
    {
      "cell_type": "markdown",
      "metadata": {
        "id": "view-in-github",
        "colab_type": "text"
      },
      "source": [
        "<a href=\"https://colab.research.google.com/github/majisyah13/RMT-002/blob/main/Latihan_Conditional_%26_Looping_CODA001.ipynb\" target=\"_parent\"><img src=\"https://colab.research.google.com/assets/colab-badge.svg\" alt=\"Open In Colab\"/></a>"
      ]
    },
    {
      "cell_type": "markdown",
      "source": [
        "# LATIHAN - P0W1D3AM : Conditional & Looping"
      ],
      "metadata": {
        "id": "f3fwm9AXSf4W"
      }
    },
    {
      "cell_type": "markdown",
      "source": [
        "**NOMOR 1**\n",
        "\n",
        "Buatlah sebuah kondisi untuk mengecek apakah variabel `a` **lebih kecil** dari variabel `b` berdasarkan nilai dibawah ini :\n",
        "* `a` = 100\n",
        "* `b` = 200\n",
        "\n",
        "Jika `True` maka tulis/cetak `a lebih kecil dari b`"
      ],
      "metadata": {
        "id": "KwQ65oWbSk3E"
      }
    },
    {
      "cell_type": "code",
      "source": [
        "a = 100\n",
        "b = 200\n",
        "if a < b:\n",
        "  print('a lebih kecil dari b')"
      ],
      "metadata": {
        "id": "Rpd424VzMZba",
        "outputId": "0169b4dd-77e2-4d0a-f79a-b0728d05732a",
        "colab": {
          "base_uri": "https://localhost:8080/"
        }
      },
      "execution_count": 2,
      "outputs": [
        {
          "output_type": "stream",
          "name": "stdout",
          "text": [
            "a lebih kecil dari b\n"
          ]
        }
      ]
    },
    {
      "cell_type": "code",
      "source": [
        "a = 100\n",
        "b = 200\n",
        "if a < b:\n",
        "  print('a lebih kecil dari b')"
      ],
      "metadata": {
        "id": "xGs5OVWz_rpM",
        "outputId": "98fc6211-cca4-4b51-815e-af007300f504",
        "colab": {
          "base_uri": "https://localhost:8080/"
        }
      },
      "execution_count": 3,
      "outputs": [
        {
          "output_type": "stream",
          "name": "stdout",
          "text": [
            "a lebih kecil dari b\n"
          ]
        }
      ]
    },
    {
      "cell_type": "markdown",
      "source": [
        "**NOMOR 2**\n",
        "\n",
        "Buatlah sebuah kondisi untuk mengecek apakah variabel `a` **lebih besar** dari variabel `b` berdasarkan nilai dibawah ini :\n",
        "* `a` = 100\n",
        "* `b` = 200\n",
        "\n",
        "Jika `True` maka tulis/cetak `a lebih besar dari b`"
      ],
      "metadata": {
        "id": "3VTram85TxLA"
      }
    },
    {
      "cell_type": "code",
      "source": [
        "a = 100\n",
        "b = 200\n",
        "if a > b:\n",
        "  print('a lebih besar dari b')"
      ],
      "metadata": {
        "id": "jGmT77M4MYuB"
      },
      "execution_count": 5,
      "outputs": []
    },
    {
      "cell_type": "markdown",
      "source": [
        "**NOMOR 3**\n",
        "\n",
        "Buatlah sebuah kondisi untuk mengecek apakah variabel `a` **tidak sama dengan**  variabel `b` berdasarkan nilai dibawah ini :\n",
        "* `a` = `januari`\n",
        "* `b` = `februari`\n",
        "\n",
        "Jika `True` maka tulis/cetak `a tidak sama dengan b`\n",
        "\n",
        "Jika `False` maka tulis/cetak `a sama dengan b`"
      ],
      "metadata": {
        "id": "nJ04rhbDUDuI"
      }
    },
    {
      "cell_type": "code",
      "source": [
        "a = 'januari'\n",
        "b = 'februari'\n",
        "\n",
        "if a != b:\n",
        "  print('a tidak sama dengan b')\n",
        "else:\n",
        "  print('a sama dengan b')"
      ],
      "metadata": {
        "id": "HvwYDFVGMfdT",
        "outputId": "f217b3e7-19f1-4124-83c7-0e15fdce7b38",
        "colab": {
          "base_uri": "https://localhost:8080/"
        }
      },
      "execution_count": 7,
      "outputs": [
        {
          "output_type": "stream",
          "name": "stdout",
          "text": [
            "a tidak sama dengan b\n"
          ]
        }
      ]
    },
    {
      "cell_type": "markdown",
      "source": [
        "**NOMOR 4**\n",
        "\n",
        "Buatlah sebuah kondisi untuk mengecek apakah variabel `a` **sama dengan**  variabel `b` berdasarkan nilai dibawah ini :\n",
        "* `a` = 1000\n",
        "* `b` = 1000.0\n",
        "\n",
        "Jika `True` maka jangan menampilkan apapun\n",
        "\n",
        "Jika `False` maka tulis/cetak `a tidak sama dengan b`"
      ],
      "metadata": {
        "id": "bbHY6mLEfCtm"
      }
    },
    {
      "cell_type": "code",
      "source": [
        "a = 1000\n",
        "b = 1000.0\n",
        "if a == b:\n",
        "  print()\n",
        "else:\n",
        "  print('a tidak sama dengan b')"
      ],
      "metadata": {
        "id": "boNpvqT0MhkK",
        "outputId": "ceb514f0-0b6e-41f3-dc5c-7e398245bb25",
        "colab": {
          "base_uri": "https://localhost:8080/"
        }
      },
      "execution_count": 8,
      "outputs": [
        {
          "output_type": "stream",
          "name": "stdout",
          "text": [
            "\n"
          ]
        }
      ]
    },
    {
      "cell_type": "markdown",
      "source": [
        "**NOMOR 5**\n",
        "\n",
        "Buatlah sebuah kondisi untuk mengecek apakah variabel `a` **berbeda**  variabel `b` berdasarkan nilai dibawah ini :\n",
        "* `angka_ganjil` = `[1, 3, 5, 7]`\n",
        "* `angka_genap`  = `[2, 4, 6, 8]`\n",
        "\n",
        "Jika `True` maka tulis/cetak `a berbeda dengan b`\n",
        "\n",
        "Jika `False` maka tulis/cetak `a sama dengan b`"
      ],
      "metadata": {
        "id": "b_v1w6L-VsD8"
      }
    },
    {
      "cell_type": "code",
      "source": [
        "angka_ganjil = [1, 3, 5, 7]\n",
        "angka_genap = [2, 4, 6, 8]\n",
        "if angka_ganjil != angka_genap:\n",
        "  print('a berbeda dengan b')\n",
        "else:\n",
        "  print('a sama dengan b')"
      ],
      "metadata": {
        "id": "RgkXSGk8MjIb",
        "outputId": "593d7d7c-3f1c-45e1-85fe-d7031f60be7b",
        "colab": {
          "base_uri": "https://localhost:8080/"
        }
      },
      "execution_count": 16,
      "outputs": [
        {
          "output_type": "stream",
          "name": "stdout",
          "text": [
            "a berbeda dengan b\n"
          ]
        }
      ]
    },
    {
      "cell_type": "markdown",
      "source": [
        "**NOMOR 6**\n",
        "\n",
        "Buatlah sebuah kondisi untuk mengecek apakah variabel-variabel dibawah ini termasuk salah satu nilai dari variabel lain atau tidak\n",
        "\n",
        "* *`pendidikan` = `s1`* terhadap *`daftar_pendidikan` = ['s1', 's2', 's3']*\n",
        "* *`nama` = `budi`* terhadap *`nama_lengkap` = `budi kurniawan`*\n",
        "\n",
        "Jika True maka tulis/cetak `merupakan bagian`\n",
        "\n",
        "Jika False maka tulis/cetak `bukan merupakan bagian`"
      ],
      "metadata": {
        "id": "QAuu7AtZeHHo"
      }
    },
    {
      "cell_type": "code",
      "source": [
        "pendidikan = 's1'\n",
        "daftar_pendidikan = ['s1', 's2', 's3']\n",
        "if pendidikan in daftar_pendidikan:\n",
        "  print('merupakan bagian')\n",
        "else:\n",
        "  print('bukan merupakan bagian')\n",
        "\n",
        "nama = 'budi'\n",
        "nama_lengkap = 'budi kurniawan'\n",
        "if nama in nama_lengkap:\n",
        "  print('merupakan bagian')\n",
        "else:\n",
        "  print('bukan merupakan bagian')"
      ],
      "metadata": {
        "id": "hoYra7dFMnnO",
        "outputId": "a14deb3b-dd07-4964-e82a-807ac251d2fc",
        "colab": {
          "base_uri": "https://localhost:8080/"
        }
      },
      "execution_count": 21,
      "outputs": [
        {
          "output_type": "stream",
          "name": "stdout",
          "text": [
            "merupakan bagian\n",
            "merupakan bagian\n"
          ]
        }
      ]
    },
    {
      "cell_type": "markdown",
      "source": [
        "**NOMOR 7**\n",
        "\n",
        "Buatlah sebuah kondisi untuk mengecek hubungan dua variabel dibawah ini :\n",
        "\n",
        "* `a` = 100\n",
        "* `b` = 100\n",
        "\n",
        "Jika `a < b` maka tulis/cetak `a lebih kecil dari b`\n",
        "\n",
        "Jika `a > b` maka tulis/cetak `a lebih besar dari b`\n",
        "\n",
        "Selain kondisi diatas, maka tulis/cetak `a sama dengan b`"
      ],
      "metadata": {
        "id": "xKB0rquQgyU1"
      }
    },
    {
      "cell_type": "code",
      "source": [
        "a = 100\n",
        "b = 100\n",
        "if a < b:\n",
        "  print('a lebih kecil dari b')\n",
        "elif a > b:\n",
        "  print('a lebih besar dari b')\n",
        "else:\n",
        "  print('a sama dengan b')"
      ],
      "metadata": {
        "id": "CslJaYt_MxEp",
        "outputId": "39322162-1581-4702-9954-913f7e7dc08b",
        "colab": {
          "base_uri": "https://localhost:8080/"
        }
      },
      "execution_count": 22,
      "outputs": [
        {
          "output_type": "stream",
          "name": "stdout",
          "text": [
            "a sama dengan b\n"
          ]
        }
      ]
    },
    {
      "cell_type": "markdown",
      "source": [
        "**NOMOR 8**\n",
        "\n",
        "Buatlah sebuah kondisi untuk memilih menu makanan dengan syarat :\n",
        "\n",
        "* Pilih `nasi goreng` jika uang yang dimiliki lebih dari sama dengan Rp 15.000,-\n",
        "* Pilih `ketoprak` jika uang yang dimiliki lebih dari sama dengan Rp 10.000 dan kurang dari Rp 15.000,-\n",
        "* Pilih `batagor` jika uang yang dimiliki lebih dari sama dengan Rp 5.000 dan kurang Rp 10.000,-\n",
        "* Pilih `es teh manis` jika uang yang dimiliki kurang dari Rp 5000"
      ],
      "metadata": {
        "id": "6-2lRRq0e0v2"
      }
    },
    {
      "cell_type": "code",
      "source": [
        "#input\n",
        "uang = 13000\n",
        "if uang >= 15000:\n",
        "  print('nasi goreng')\n",
        "elif uang >= 10000 and uang < 15000:\n",
        "  print('ketoprak')\n",
        "elif uang >= 5000 and uang < 10000:\n",
        "  print('batagor')\n",
        "elif uang < 5000:\n",
        "  print('es teh manis')"
      ],
      "metadata": {
        "id": "a6nGhaBS30h5",
        "outputId": "00d3fc24-7feb-457a-c448-e673bcc09ae3",
        "colab": {
          "base_uri": "https://localhost:8080/"
        }
      },
      "execution_count": 23,
      "outputs": [
        {
          "output_type": "stream",
          "name": "stdout",
          "text": [
            "ketoprak\n"
          ]
        }
      ]
    },
    {
      "cell_type": "markdown",
      "source": [
        "**NOMOR 9**\n",
        "\n",
        "Buatlah sebuah perulangan untuk mencetak/menulis kata `hello` sebanyak `5` kali."
      ],
      "metadata": {
        "id": "0LRQikHLhzxx"
      }
    },
    {
      "cell_type": "code",
      "source": [
        "print('hello' * 5)"
      ],
      "metadata": {
        "id": "Xsti9HXWM95y",
        "outputId": "55d77de2-5294-4310-c818-de0b04afb11b",
        "colab": {
          "base_uri": "https://localhost:8080/"
        }
      },
      "execution_count": 24,
      "outputs": [
        {
          "output_type": "stream",
          "name": "stdout",
          "text": [
            "hellohellohellohellohello\n"
          ]
        }
      ]
    },
    {
      "cell_type": "markdown",
      "source": [
        "**NOMOR 10**\n",
        "\n",
        "Buatlah sebuah perulangan untuk menampilkan angka dari `0` - `5`\n",
        "\n",
        "*Hasil : 0, 1, 2, 3, 4, 5*"
      ],
      "metadata": {
        "id": "q1u5JgNcjDER"
      }
    },
    {
      "cell_type": "code",
      "source": [
        "for x in range(6):\n",
        "  if x < 5:\n",
        "    print(x, end=',')\n",
        "  else:\n",
        "    print(x)"
      ],
      "metadata": {
        "id": "_5D3mGIIM9gQ",
        "outputId": "8f4e2fba-85fd-47f9-fba6-6823e367365b",
        "colab": {
          "base_uri": "https://localhost:8080/"
        }
      },
      "execution_count": 43,
      "outputs": [
        {
          "output_type": "stream",
          "name": "stdout",
          "text": [
            "0,1,2,3,4,5\n"
          ]
        }
      ]
    },
    {
      "cell_type": "markdown",
      "source": [
        "**NOMOR 11**\n",
        "\n",
        "Buatlah sebuah perulangan untuk menampilkan angka dari `3` - `5`\n",
        "\n",
        "*Hasil : 3, 4, 5*"
      ],
      "metadata": {
        "id": "1D-AQ-pij46e"
      }
    },
    {
      "cell_type": "code",
      "source": [
        "for x in range(3, 6):\n",
        "  if x < 5:\n",
        "    print(x, end=',')\n",
        "  else:\n",
        "    print(x)"
      ],
      "metadata": {
        "id": "_dZoILmlM_2t",
        "outputId": "a89406f0-6a09-4131-b35d-38139ae2c6d5",
        "colab": {
          "base_uri": "https://localhost:8080/"
        }
      },
      "execution_count": 45,
      "outputs": [
        {
          "output_type": "stream",
          "name": "stdout",
          "text": [
            "3,4,5\n"
          ]
        }
      ]
    },
    {
      "cell_type": "markdown",
      "source": [
        "**NOMOR 12**\n",
        "\n",
        "Buatlah sebuah perulangan untuk menampilkan angka dari `1` - `10` dengan jarak angka adalah `3`\n",
        "\n",
        "*Hasil : 1, 4, 7, 10*"
      ],
      "metadata": {
        "id": "uSEVraIukViN"
      }
    },
    {
      "cell_type": "code",
      "source": [
        "for x in range(1, 11, 3):\n",
        "  if x < 10:\n",
        "    print(x, end=',')\n",
        "  else:\n",
        "    print(x)"
      ],
      "metadata": {
        "id": "-ABJEE5nNBCW",
        "outputId": "986dd0df-ecbe-4901-b3ec-bcf6e6f07b4b",
        "colab": {
          "base_uri": "https://localhost:8080/"
        }
      },
      "execution_count": 46,
      "outputs": [
        {
          "output_type": "stream",
          "name": "stdout",
          "text": [
            "1,4,7,10\n"
          ]
        }
      ]
    },
    {
      "cell_type": "markdown",
      "source": [
        "**NOMOR 13**\n",
        "\n",
        "Buatlah sebuah perulangan untuk menampilkan angka dari `1` - `10` dan berhenti dengan kondisi jika angka tersebut adalah `8`\n",
        "\n",
        "*Hasil : 1, 2, 3, 4, 5, 6, 7, 8*"
      ],
      "metadata": {
        "id": "DtDfto_5k75u"
      }
    },
    {
      "cell_type": "code",
      "source": [
        "for x in range(1,9):\n",
        "  if x < 8:\n",
        "    print(x, end=',')\n",
        "  else:\n",
        "    print(x)"
      ],
      "metadata": {
        "id": "JpetMN9oNGMN",
        "outputId": "31bfd6d4-6ed0-47d0-dcc5-945b3d1ae873",
        "colab": {
          "base_uri": "https://localhost:8080/"
        }
      },
      "execution_count": 51,
      "outputs": [
        {
          "output_type": "stream",
          "name": "stdout",
          "text": [
            "1,2,3,4,5,6,7,8\n"
          ]
        }
      ]
    },
    {
      "cell_type": "markdown",
      "source": [
        "**NOMOR 14**\n",
        "\n",
        "Buatlah sebuah perulangan untuk menampilkan angka genap dari `1` - `10` dan angka tersebut kurang dari sama dengan 6\n",
        "\n",
        "*Hasil : 2, 4, 6*"
      ],
      "metadata": {
        "id": "xHUh5DxDmkjm"
      }
    },
    {
      "cell_type": "code",
      "source": [
        "for x in range (2,8,2):\n",
        "  if x < 6:\n",
        "    print(x, end=',')\n",
        "  else:\n",
        "    print(x)"
      ],
      "metadata": {
        "id": "DdWcD-ZJNHN0",
        "outputId": "081588bd-5cd6-41cd-9460-7badf3d202c1",
        "colab": {
          "base_uri": "https://localhost:8080/"
        }
      },
      "execution_count": 66,
      "outputs": [
        {
          "output_type": "stream",
          "name": "stdout",
          "text": [
            "2,4,6\n"
          ]
        }
      ]
    },
    {
      "cell_type": "markdown",
      "source": [
        "**NOMOR 15**\n",
        "\n",
        "Buatlah sebuah perulangan untuk menampilkan isi dari variabel list dibawah ini :\n",
        "\n",
        "* `daftar_nama` = `['anwar', 'budi', 'cecep', 'deny']`"
      ],
      "metadata": {
        "id": "eHuyyy7cmFTc"
      }
    },
    {
      "cell_type": "code",
      "source": [
        "daftar_nama = ['anwar', 'budi', 'cecep', 'deny']\n",
        "for x in range(len(daftar_nama)):\n",
        "  print(daftar_nama[x])\n"
      ],
      "metadata": {
        "id": "FXpoig-GNKdo",
        "outputId": "46810bd2-a95b-4dff-eb0a-bc5f57e01eab",
        "colab": {
          "base_uri": "https://localhost:8080/"
        }
      },
      "execution_count": 67,
      "outputs": [
        {
          "output_type": "stream",
          "name": "stdout",
          "text": [
            "anwar\n",
            "budi\n",
            "cecep\n",
            "deny\n"
          ]
        }
      ]
    }
  ]
}